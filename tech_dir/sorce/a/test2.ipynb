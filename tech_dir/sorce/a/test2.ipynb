{
 "cells": [
  {
   "cell_type": "code",
   "execution_count": 1,
   "id": "2b7b5092-8d91-49d7-9a38-1b21ee7e0eb3",
   "metadata": {},
   "outputs": [
    {
     "data": {
      "text/plain": [
       "'abs'"
      ]
     },
     "execution_count": 1,
     "metadata": {},
     "output_type": "execute_result"
    }
   ],
   "source": [
    "'abs'"
   ]
  },
  {
   "cell_type": "code",
   "execution_count": null,
   "id": "4e35898b-604f-4ae5-a494-eb8b6539a477",
   "metadata": {},
   "outputs": [],
   "source": []
  },
  {
   "cell_type": "code",
   "execution_count": null,
   "id": "49a4ba30-cb5d-480f-925e-9b908eab29d7",
   "metadata": {},
   "outputs": [],
   "source": []
  },
  {
   "cell_type": "code",
   "execution_count": 2,
   "id": "022fa72f-f12e-4390-b3ab-aa6d662e6818",
   "metadata": {},
   "outputs": [
    {
     "ename": "NameError",
     "evalue": "name 'csca' is not defined",
     "output_type": "error",
     "traceback": [
      "\u001b[0;31m---------------------------------------------------------------------------\u001b[0m",
      "\u001b[0;31mNameError\u001b[0m                                 Traceback (most recent call last)",
      "Cell \u001b[0;32mIn[2], line 1\u001b[0m\n\u001b[0;32m----> 1\u001b[0m \u001b[43mcsca\u001b[49m\n",
      "\u001b[0;31mNameError\u001b[0m: name 'csca' is not defined"
     ]
    }
   ],
   "source": [
    "csca"
   ]
  },
  {
   "cell_type": "code",
   "execution_count": null,
   "id": "8a938fa6-0de0-4811-a81b-c5cd25a5a9bf",
   "metadata": {},
   "outputs": [],
   "source": []
  },
  {
   "cell_type": "code",
   "execution_count": null,
   "id": "4f91a04b-43b7-425d-b11d-794ef7b7b509",
   "metadata": {},
   "outputs": [],
   "source": []
  }
 ],
 "metadata": {
  "kernelspec": {
   "display_name": "Python 3 (ipykernel)",
   "language": "python",
   "name": "python3"
  },
  "language_info": {
   "codemirror_mode": {
    "name": "ipython",
    "version": 3
   },
   "file_extension": ".py",
   "mimetype": "text/x-python",
   "name": "python",
   "nbconvert_exporter": "python",
   "pygments_lexer": "ipython3",
   "version": "3.11.6"
  }
 },
 "nbformat": 4,
 "nbformat_minor": 5
}
