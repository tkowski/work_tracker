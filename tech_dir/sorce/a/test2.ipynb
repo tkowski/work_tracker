{
 "cells": [
  {
   "cell_type": "code",
   "execution_count": 1,
   "id": "2b7b5092-8d91-49d7-9a38-1b21ee7e0eb3",
   "metadata": {},
   "outputs": [],
   "source": [
    "'abs'"
   ]
  },
  {
   "cell_type": "code",
   "execution_count": null,
   "id": "4e35898b-604f-4ae5-a494-eb8b6539a477",
   "metadata": {},
   "outputs": [],
   "source": []
  },
  {
   "cell_type": "code",
   "execution_count": null,
   "id": "49a4ba30-cb5d-480f-925e-9b908eab29d7",
   "metadata": {},
   "outputs": [],
   "source": []
  },
  {
   "cell_type": "code",
   "execution_count": 2,
   "id": "022fa72f-f12e-4390-b3ab-aa6d662e6818",
   "metadata": {},
   "outputs": [],
   "source": [
    "csca"
   ]
  },
  {
   "cell_type": "code",
   "execution_count": null,
   "id": "8a938fa6-0de0-4811-a81b-c5cd25a5a9bf",
   "metadata": {},
   "outputs": [],
   "source": []
  },
  {
   "cell_type": "code",
   "execution_count": 1,
   "id": "4f91a04b-43b7-425d-b11d-794ef7b7b509",
   "metadata": {},
   "outputs": [],
   "source": [
    "sss"
   ]
  },
  {
   "cell_type": "code",
   "execution_count": null,
   "id": "c4225d18-a84d-48c2-b951-587cdfbbec64",
   "metadata": {},
   "outputs": [],
   "source": []
  },
  {
   "cell_type": "code",
   "execution_count": null,
   "id": "0ab33f19-deed-4880-bd4b-99bd00fa7fcc",
   "metadata": {},
   "outputs": [],
   "source": []
  },
  {
   "cell_type": "code",
   "execution_count": null,
   "id": "9da98801-ea2b-48a0-a38a-79ba654962f5",
   "metadata": {},
   "outputs": [],
   "source": []
  },
  {
   "cell_type": "code",
   "execution_count": 2,
   "id": "14e21894-8d83-41b5-8ed3-ff087cef3f8e",
   "metadata": {},
   "outputs": [],
   "source": [
    "sss"
   ]
  },
  {
   "cell_type": "code",
   "execution_count": null,
   "id": "0e09c3a2-e635-4ccd-a3c2-4e7010904590",
   "metadata": {},
   "outputs": [],
   "source": []
  },
  {
   "cell_type": "code",
   "execution_count": 3,
   "id": "f98f0f3d-0c39-4fef-a2b2-b04d41d89559",
   "metadata": {},
   "outputs": [],
   "source": [
    "ss"
   ]
  },
  {
   "cell_type": "code",
   "execution_count": null,
   "id": "8074d726-f659-488e-8825-23df72a158d0",
   "metadata": {},
   "outputs": [],
   "source": []
  },
  {
   "cell_type": "code",
   "execution_count": null,
   "id": "b8d62ec1-1a56-4c9a-91e0-fc0990c2e365",
   "metadata": {},
   "outputs": [],
   "source": []
  }
 ],
 "metadata": {
  "kernelspec": {
   "display_name": "Python 3 (ipykernel)",
   "language": "python",
   "name": "python3"
  },
  "language_info": {
   "codemirror_mode": {
    "name": "ipython",
    "version": 3
   },
   "file_extension": ".py",
   "mimetype": "text/x-python",
   "name": "python",
   "nbconvert_exporter": "python",
   "pygments_lexer": "ipython3",
   "version": "3.11.6"
  }
 },
 "nbformat": 4,
 "nbformat_minor": 5
}
