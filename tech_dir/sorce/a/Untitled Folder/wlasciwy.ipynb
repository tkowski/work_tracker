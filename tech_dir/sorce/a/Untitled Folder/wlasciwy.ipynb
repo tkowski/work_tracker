{
 "cells": [
  {
   "cell_type": "code",
   "execution_count": 1,
   "id": "c13ce2f8-5ec1-4419-99af-e560b88f0e54",
   "metadata": {},
   "outputs": [],
   "source": [
    "aa"
   ]
  },
  {
   "cell_type": "code",
   "execution_count": 2,
   "id": "d47998b1-d4c5-4d75-a539-a7319bdc042b",
   "metadata": {},
   "outputs": [],
   "source": [
    "moja cięzka praca"
   ]
  },
  {
   "cell_type": "code",
   "execution_count": null,
   "id": "167dc03c-b11d-4a56-984a-24cc8c90e4fc",
   "metadata": {},
   "outputs": [],
   "source": []
  },
  {
   "cell_type": "code",
   "execution_count": 3,
   "id": "8cacbac6-9fad-471a-98c6-2944e1a29a0f",
   "metadata": {},
   "outputs": [],
   "source": [
    "dad\n"
   ]
  },
  {
   "cell_type": "code",
   "execution_count": 4,
   "id": "03430c31-5063-4c83-b43c-40c01f4c835e",
   "metadata": {},
   "outputs": [],
   "source": [
    "s"
   ]
  },
  {
   "cell_type": "code",
   "execution_count": 5,
   "id": "ce654690-b4cc-4c27-886d-4b036cfc33ff",
   "metadata": {},
   "outputs": [],
   "source": [
    "Sd"
   ]
  },
  {
   "cell_type": "code",
   "execution_count": 6,
   "id": "c09e1a2a-7e9d-4a98-bc9e-d4e019c61546",
   "metadata": {},
   "outputs": [],
   "source": [
    "d22"
   ]
  },
  {
   "cell_type": "code",
   "execution_count": 7,
   "id": "79b45bc2-5b31-47d8-97b0-716ca38d9650",
   "metadata": {},
   "outputs": [],
   "source": [
    "3"
   ]
  },
  {
   "cell_type": "code",
   "execution_count": 8,
   "id": "18f89b72-60c7-4090-8a4b-d915f1610731",
   "metadata": {},
   "outputs": [],
   "source": [
    "1"
   ]
  },
  {
   "cell_type": "code",
   "execution_count": null,
   "id": "2e598b5f-d4dc-4abf-b8fc-429f62c27b0b",
   "metadata": {},
   "outputs": [],
   "source": []
  }
 ],
 "metadata": {
  "kernelspec": {
   "display_name": "Python 3 (ipykernel)",
   "language": "python",
   "name": "python3"
  },
  "language_info": {
   "codemirror_mode": {
    "name": "ipython",
    "version": 3
   },
   "file_extension": ".py",
   "mimetype": "text/x-python",
   "name": "python",
   "nbconvert_exporter": "python",
   "pygments_lexer": "ipython3",
   "version": "3.11.6"
  }
 },
 "nbformat": 4,
 "nbformat_minor": 5
}
